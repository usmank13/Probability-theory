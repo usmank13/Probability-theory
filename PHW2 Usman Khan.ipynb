{
 "cells": [
  {
   "cell_type": "code",
   "execution_count": 2,
   "metadata": {},
   "outputs": [],
   "source": [
    "import numpy as np\n",
    "import matplotlib.pyplot as plt"
   ]
  },
  {
   "cell_type": "markdown",
   "metadata": {},
   "source": [
    "## 1.1 Monty Hall Problem"
   ]
  },
  {
   "cell_type": "markdown",
   "metadata": {},
   "source": [
    "Problem Description: Suppose you’re on a game show, and you’re given the choice of three doors: Behind one\n",
    "door is a car; behind the others, goats. You pick a door, say No. 1, and the host, who knows what’s behind the\n",
    "doors, opens another door, say No. 3, which has a goat. He then says to you, \"Do you want to pick door No. 2?\"\n",
    "Is it to your advantage to switch your choice? "
   ]
  },
  {
   "cell_type": "markdown",
   "metadata": {},
   "source": [
    "**A)** What do you think? Is it better to switch to the third door, or remain with the current selection? Will it make any difference at all? Why do you think so? (This question won't be graded based on the correctness of the answer. Just give a prediction!)\n",
    "\n",
    "Answer: It's always better to switch. This is because by revealing one of the two doors, the host has implicitly revealed more information about the problem (since the host can't choose to reveal the prize door). "
   ]
  },
  {
   "cell_type": "markdown",
   "metadata": {},
   "source": [
    "**B)** Write a function in python named MontyHallProblem emulating the Monty Hall problem. Follow the\n",
    "steps below:\n",
    "1. Emulate the doors: Create three doors, and assign a big prize to one of them randomly.\n",
    "2. Emulate the contestant: Pick one of the doors randomly.\n",
    "3. Reveal what’s behind one of the two remaining doors: If one of the doors is the prize, remove the non-prize one.\n",
    "If both are non-prize, remove one of them randomly.\n",
    "4. Moment of the final choice: The contestant keeps the current selection with a probability α and switches to the\n",
    "alternative door with a probability 1 − α. The parameter α is given to the function as an input.\n",
    "5. Return whether the contestant won: True or False."
   ]
  },
  {
   "cell_type": "code",
   "execution_count": 263,
   "metadata": {},
   "outputs": [],
   "source": [
    "def MontyHallExperiment(alpha=0.5):\n",
    "    doors = [1, 2, 3] # defined the doors\n",
    "    prize_door = np.random.choice(doors) # randomly assigned the prize door\n",
    "    contestant_choice = np.random.choice(doors)\n",
    "#     print(\"initial choice: \", contestant_choice)\n",
    "    \n",
    "    doors_to_open = [1,2,3]\n",
    "    doors_to_open.remove(contestant_choice) # open the door the contestant chooses\n",
    "    \n",
    "    # if one of the remaining doors is the prize door\n",
    "    if prize_door in doors_to_open:\n",
    "        doors_to_open.remove(prize_door)\n",
    "        revealed_door = doors_to_open[0]\n",
    "    #   print('executed case where one of the remaining doors was the prize')\n",
    "    #   print(revealed_door)\n",
    "    else: # if the contestant chose the prize door\n",
    "        revealed_door = np.random.choice(doors_to_open)\n",
    "        doors_to_open.remove(revealed_door)\n",
    "    #   print('case where the contestant chose the prize door initially')\n",
    "        \n",
    "        \n",
    "    # at this point the contestant chooses to switch or not \n",
    "    # doors to open only has one door in it. It is the door the contestant did not choose and was not revealed\n",
    "    probs = [1-alpha, alpha]\n",
    "    switch = np.random.choice([True, False], p = probs)\n",
    "    if (switch):\n",
    "        if (contestant_choice == prize_door):\n",
    "            return False; # lost, switched when he had the right door!\n",
    "        else:\n",
    "            return True\n",
    "    else:\n",
    "        if (contestant_choice == prize_door): #didn't switch and was right\n",
    "            return True\n",
    "        else:\n",
    "            return False # didn't switch, and was wrong\n",
    "    \n",
    "    \n",
    "        "
   ]
  },
  {
   "cell_type": "code",
   "execution_count": 277,
   "metadata": {},
   "outputs": [
    {
     "data": {
      "text/plain": [
       "array([0. , 0.1, 0.2, 0.3, 0.4, 0.5, 0.6, 0.7, 0.8, 0.9, 1. ])"
      ]
     },
     "execution_count": 277,
     "metadata": {},
     "output_type": "execute_result"
    }
   ],
   "source": [
    " np.arange(0.0, 1.1, 0.1)"
   ]
  },
  {
   "cell_type": "markdown",
   "metadata": {},
   "source": [
    "**C)** For each $\\alpha= 0, 0.1, 0.2, \\ldots, 1.0$ run the experiment for many times (such as 10000), and estimate the probability of winning as a function of $\\alpha$. Plot the results. What is the probability of winning if you never switch? What's the probability of winnig if you always switch? How does the result compare to your prediction from A)?"
   ]
  },
  {
   "cell_type": "code",
   "execution_count": 279,
   "metadata": {},
   "outputs": [
    {
     "name": "stdout",
     "output_type": "stream",
     "text": [
      "[0.6711, 0.6222, 0.5976, 0.5683, 0.5372, 0.5067, 0.4662, 0.4382, 0.394, 0.3721, 0.3285]\n"
     ]
    },
    {
     "data": {
      "text/plain": [
       "[<matplotlib.lines.Line2D at 0x1fcfe552eb8>]"
      ]
     },
     "execution_count": 279,
     "metadata": {},
     "output_type": "execute_result"
    },
    {
     "data": {
      "image/png": "[encoded data removed]",
      "text/plain": [
       "<Figure size 432x288 with 1 Axes>"
      ]
     },
     "metadata": {
      "needs_background": "light"
     },
     "output_type": "display_data"
    }
   ],
   "source": [
    "alphas = np.arange(0.0, 1.1, 0.1)\n",
    "p_alpha = []\n",
    "\n",
    "for value in alphas:\n",
    "\n",
    "    trials = 10000\n",
    "    monty_sim = [MontyHallExperiment(value) for i in range(trials)]\n",
    "\n",
    "    trues = 0\n",
    "    for item in monty_sim:\n",
    "        if (item):\n",
    "            trues +=1\n",
    "    p_alpha.append(trues/trials)\n",
    "    \n",
    "print(p_alpha)\n",
    "\n",
    "    \n"
   ]
  },
  {
   "cell_type": "code",
   "execution_count": 280,
   "metadata": {},
   "outputs": [
    {
     "data": {
      "text/plain": [
       "Text(0.5, 0, 'Alpha (probability of keeping selection)')"
      ]
     },
     "execution_count": 280,
     "metadata": {},
     "output_type": "execute_result"
    },
    {
     "data": {
      "image/png": "[encoded data removed]",
      "text/plain": [
       "<Figure size 432x288 with 1 Axes>"
      ]
     },
     "metadata": {
      "needs_background": "light"
     },
     "output_type": "display_data"
    }
   ],
   "source": [
    "plt.figure()\n",
    "plt.plot(alphas, p_alpha)\n",
    "plt.title('Probability of Winning vs. Alpha')\n",
    "plt.ylabel('P')\n",
    "plt.xlabel('Alpha (probability of keeping selection)')"
   ]
  },
  {
   "cell_type": "markdown",
   "metadata": {},
   "source": [
    "If you never switch, the probability of winning is about 0.33. If you always switch, the probability of winning is about 0.66. This also confirms my hypothesis in part A. "
   ]
  },
  {
   "cell_type": "markdown",
   "metadata": {},
   "source": [
    "## 2.1 Conditional Die Rolling\n",
    "\n",
    "First we toss a coin (biased in general with parameter α), if Heads appears, we roll a four-sided die. If Tails appears,\n",
    "we roll an eight-sided die.\n",
    "\n",
    "**A)** Write a function named ConditionalDieRoll that emulates this experiment. The function should take the\n",
    "parameter α as input, and needs to output a tuple containing the results of coin toss and die rolling (For example:\n",
    "(\"H\"; 3) or (\"T\"; 7))."
   ]
  },
  {
   "cell_type": "code",
   "execution_count": 29,
   "metadata": {},
   "outputs": [],
   "source": [
    "def BiasedCoinToss(a):\n",
    "    choices = [0,1]\n",
    "    probs = [1-a, a]\n",
    "    result = np.random.choice(choices,1, p = probs)\n",
    "    # or return result[0]\n",
    "    if (result[0] == 1):\n",
    "        return \"H\"\n",
    "    else:\n",
    "        return \"T\"\n",
    "    \n",
    "    \n",
    "def DieRolling(sides):\n",
    "    choices = np.arange(1, sides + 1)\n",
    "    result = np.random.choice(choices,1)\n",
    "    return result[0]\n",
    "\n",
    "\n",
    "def ConditionalDieRoll(alpha=0.5):\n",
    "    toss = BiasedCoinToss(alpha)\n",
    "    if (toss == \"H\"):\n",
    "        roll = DieRolling(4)\n",
    "    else:\n",
    "        roll = DieRolling(8)\n",
    "    result = (toss, roll)\n",
    "    return result"
   ]
  },
  {
   "cell_type": "markdown",
   "metadata": {},
   "source": [
    "C) The calculated value matches the theoretical value"
   ]
  },
  {
   "cell_type": "markdown",
   "metadata": {},
   "source": [
    "**B)** For α = 0:5 (i.e. suppose the coin toss is fair), generate 10000 samples of the experiment above"
   ]
  },
  {
   "cell_type": "code",
   "execution_count": 89,
   "metadata": {},
   "outputs": [],
   "source": [
    "n_trials = 10000\n",
    "exp_results = [ConditionalDieRoll(alpha = 0.5) for i in range(n_trials)]"
   ]
  },
  {
   "cell_type": "markdown",
   "metadata": {},
   "source": [
    "**C)** Estimate the conditional probability $P(1|H)$. Of the 10000 experiments above, count the number\n",
    "of times that Heads appeared for the coin. Let’s denote it by $n(H)$. Next, count the number of times that\n",
    "Heads appeared for the coin and 1 appeared for the die. Let’s denote it by $n(H, 1)$. Calculate the fraction\n",
    "$n(H, 1)/n(H)$. Compare to the theoretical value for $P(1|H)$"
   ]
  },
  {
   "cell_type": "code",
   "execution_count": 83,
   "metadata": {},
   "outputs": [
    {
     "name": "stdout",
     "output_type": "stream",
     "text": [
      "Number of heads:  4945\n",
      "Number of heads AND 1:  1199\n",
      "Probability of 1 given H:  0.24246713852376137\n"
     ]
    }
   ],
   "source": [
    "# count number of heads\n",
    "heads = 0\n",
    "h_1 = 0\n",
    "for item in exp_results:\n",
    "    if(item[0] == \"H\"):\n",
    "        heads += 1\n",
    "        if (item[1] == 1):\n",
    "            h_1 += 1\n",
    "    \n",
    "print(\"Number of heads: \", heads)\n",
    "print(\"Number of heads AND 1: \", h_1)\n",
    "print(\"Probability of 1 given H: \", h_1/heads)\n",
    "\n",
    "# Matches theoretical value of 0.25\n"
   ]
  },
  {
   "cell_type": "markdown",
   "metadata": {},
   "source": [
    "**D)** Repeat part C for P(5|H), P(1|T), and P(5|T). Report the results"
   ]
  },
  {
   "cell_type": "code",
   "execution_count": 107,
   "metadata": {},
   "outputs": [
    {
     "name": "stdout",
     "output_type": "stream",
     "text": [
      "Number of heads:  4980\n",
      "Number of heads AND 5:  0\n",
      "Probability of 5 given H:  0.0\n",
      "theoretical result is 0\n"
     ]
    }
   ],
   "source": [
    "heads = 0\n",
    "h_5 = 0\n",
    "for item in exp_results:\n",
    "    if(item[0] == \"H\"):\n",
    "        heads += 1\n",
    "        if (item[1] == 5): # the roll\n",
    "            h_5 += 1\n",
    "    \n",
    "print(\"Number of heads: \", heads)\n",
    "print(\"Number of heads AND 5: \", h_5)\n",
    "print(\"Probability of 5 given H: \", h_5/heads)\n",
    "\n",
    "print(\"theoretical result is 0\")"
   ]
  },
  {
   "cell_type": "code",
   "execution_count": 108,
   "metadata": {},
   "outputs": [
    {
     "name": "stdout",
     "output_type": "stream",
     "text": [
      "Number of tails:  5020\n",
      "Number of tails AND 1:  638\n",
      "Probability of 1 given T:  0.12709163346613545\n",
      "theoretical result is 0.125\n"
     ]
    }
   ],
   "source": [
    "tails = 0\n",
    "t_1 = 0\n",
    "for item in exp_results:\n",
    "    if(item[0] == \"T\"):\n",
    "        tails += 1\n",
    "        if (item[1] == 1): # the roll\n",
    "            t_1 += 1\n",
    "    \n",
    "print(\"Number of tails: \", tails)\n",
    "print(\"Number of tails AND 1: \", t_1)\n",
    "print(\"Probability of 1 given T: \", t_1/tails)\n",
    "\n",
    "print(\"theoretical result is 0.125\")"
   ]
  },
  {
   "cell_type": "code",
   "execution_count": 109,
   "metadata": {},
   "outputs": [
    {
     "name": "stdout",
     "output_type": "stream",
     "text": [
      "Number of tails:  5020\n",
      "Number of tails AND 5:  630\n",
      "Probability of 5 given T:  0.1254980079681275\n",
      "Theoretical result is 0.125\n"
     ]
    }
   ],
   "source": [
    "tails = 0\n",
    "t_5 = 0\n",
    "for item in exp_results:\n",
    "    if(item[0] == \"T\"):\n",
    "        tails += 1\n",
    "        if (item[1] == 5): # the roll\n",
    "            t_5 += 1\n",
    "    \n",
    "print(\"Number of tails: \", tails)\n",
    "print(\"Number of tails AND 5: \", t_5)\n",
    "print(\"Probability of 5 given T: \", t_5/tails)\n",
    "\n",
    "print(\"Theoretical result is 0.125\")"
   ]
  },
  {
   "cell_type": "markdown",
   "metadata": {},
   "source": [
    "**E)** Repeat part C for P(H|5), P(T|5), P(T|1), and P(H|1). Report the result"
   ]
  },
  {
   "cell_type": "code",
   "execution_count": 110,
   "metadata": {},
   "outputs": [
    {
     "name": "stdout",
     "output_type": "stream",
     "text": [
      "Number of 5:  630\n",
      "Number of fives AND Tails:  630\n",
      "Probability of T given 5:  1.0\n",
      "Theoretical result is 1\n"
     ]
    }
   ],
   "source": [
    "fives = 0\n",
    "fives_t = 0\n",
    "for item in exp_results:\n",
    "    if(item[1] == 5):\n",
    "        fives += 1\n",
    "        if (item[0] == \"T\"): # the roll\n",
    "            fives_t += 1\n",
    "    \n",
    "print(\"Number of 5: \", fives)\n",
    "print(\"Number of fives AND Tails: \", fives_t)\n",
    "print(\"Probability of T given 5: \", fives_t/fives)\n",
    "\n",
    "print(\"Theoretical result is 1\")"
   ]
  },
  {
   "cell_type": "code",
   "execution_count": 111,
   "metadata": {},
   "outputs": [
    {
     "name": "stdout",
     "output_type": "stream",
     "text": [
      "Number of 5:  630\n",
      "Number of fives AND heads:  0\n",
      "Probability of H given 5:  0.0\n",
      "Theoretical result is 0\n"
     ]
    }
   ],
   "source": [
    "fives = 0\n",
    "fives_h = 0\n",
    "for item in exp_results:\n",
    "    if(item[1] == 5):\n",
    "        fives += 1\n",
    "        if (item[0] == \"H\"): # the roll\n",
    "            fives_h += 1\n",
    "    \n",
    "print(\"Number of 5: \", fives)\n",
    "print(\"Number of fives AND heads: \", fives_h)\n",
    "print(\"Probability of H given 5: \", fives_h/fives)\n",
    "print(\"Theoretical result is 0\")"
   ]
  },
  {
   "cell_type": "code",
   "execution_count": 112,
   "metadata": {},
   "outputs": [
    {
     "name": "stdout",
     "output_type": "stream",
     "text": [
      "Number of 1:  1843\n",
      "Number of ones AND Tails:  638\n",
      "Probability of T given 1:  0.34617471513836134\n",
      "Theoretical result is 0.33\n"
     ]
    }
   ],
   "source": [
    "ones = 0\n",
    "ones_t = 0\n",
    "for item in exp_results:\n",
    "    if(item[1] == 1):\n",
    "        ones += 1\n",
    "        if (item[0] == \"T\"): # the roll\n",
    "            ones_t += 1\n",
    "    \n",
    "print(\"Number of 1: \", ones)\n",
    "print(\"Number of ones AND Tails: \", ones_t)\n",
    "print(\"Probability of T given 1: \", ones_t/ones)\n",
    "\n",
    "print(\"Theoretical result is 0.33\")"
   ]
  },
  {
   "cell_type": "code",
   "execution_count": 113,
   "metadata": {},
   "outputs": [
    {
     "name": "stdout",
     "output_type": "stream",
     "text": [
      "Number of 1:  1843\n",
      "Number of 1 AND heads:  1205\n",
      "Probability of H given 1:  0.6538252848616386\n",
      "Theoretical result is 0.66\n"
     ]
    }
   ],
   "source": [
    "ones = 0\n",
    "ones_h = 0\n",
    "for item in exp_results:\n",
    "    if(item[1] == 1):\n",
    "        ones += 1\n",
    "        if (item[0] == \"H\"): # the roll\n",
    "            ones_h += 1\n",
    "    \n",
    "print(\"Number of 1: \", ones)\n",
    "print(\"Number of 1 AND heads: \", ones_h)\n",
    "print(\"Probability of H given 1: \", ones_h/ones)\n",
    "\n",
    "print(\"Theoretical result is 0.66\")"
   ]
  },
  {
   "cell_type": "markdown",
   "metadata": {},
   "source": [
    "**F)** If you repeat parts B,C,D,E for $\\alpha=0.75$, which probabilities do you expect to change, compared to $\\alpha=0.5$? Now redo B,C,D,E for $\\alpha=0.75$ and check that your results make sense.\n",
    "\n",
    "A: The probabilities I expect to change are those involving the rolled numbers that appear in both Heads and Tails cases (i.e the probability of heads or tails given a 1). "
   ]
  },
  {
   "cell_type": "code",
   "execution_count": 318,
   "metadata": {},
   "outputs": [],
   "source": [
    "n_trials = 10000\n",
    "exp_results = [ConditionalDieRoll(alpha = 0.75) for i in range(n_trials)]"
   ]
  },
  {
   "cell_type": "code",
   "execution_count": 319,
   "metadata": {},
   "outputs": [
    {
     "name": "stdout",
     "output_type": "stream",
     "text": [
      "Number of heads:  7437\n",
      "Number of heads AND 1:  1860\n",
      "Probability of 1 given H:  0.25010084711577246\n"
     ]
    }
   ],
   "source": [
    "# count number of heads\n",
    "heads = 0\n",
    "h_1 = 0\n",
    "for item in exp_results:\n",
    "    if(item[0] == \"H\"):\n",
    "        heads += 1\n",
    "        if (item[1] == 1):\n",
    "            h_1 += 1\n",
    "    \n",
    "print(\"Number of heads: \", heads)\n",
    "print(\"Number of heads AND 1: \", h_1)\n",
    "print(\"Probability of 1 given H: \", h_1/heads)\n",
    "\n"
   ]
  },
  {
   "cell_type": "code",
   "execution_count": 327,
   "metadata": {},
   "outputs": [
    {
     "name": "stdout",
     "output_type": "stream",
     "text": [
      "Number of heads:  7437\n",
      "Number of heads AND 5:  0\n",
      "Probability of 5 given H:  0.0\n"
     ]
    }
   ],
   "source": [
    "heads = 0\n",
    "h_5 = 0\n",
    "for item in exp_results:\n",
    "    if(item[0] == \"H\"):\n",
    "        heads += 1\n",
    "        if (item[1] == 5): # the roll\n",
    "            h_5 += 1\n",
    "    \n",
    "print(\"Number of heads: \", heads)\n",
    "print(\"Number of heads AND 5: \", h_5)\n",
    "print(\"Probability of 5 given H: \", h_5/heads)\n",
    "\n"
   ]
  },
  {
   "cell_type": "code",
   "execution_count": 328,
   "metadata": {},
   "outputs": [
    {
     "name": "stdout",
     "output_type": "stream",
     "text": [
      "Number of tails:  2563\n",
      "Number of tails AND 1:  298\n",
      "Probability of 1 given T:  0.11626999609832228\n"
     ]
    }
   ],
   "source": [
    "tails = 0\n",
    "t_1 = 0\n",
    "for item in exp_results:\n",
    "    if(item[0] == \"T\"):\n",
    "        tails += 1\n",
    "        if (item[1] == 1): # the roll\n",
    "            t_1 += 1\n",
    "    \n",
    "print(\"Number of tails: \", tails)\n",
    "print(\"Number of tails AND 1: \", t_1)\n",
    "print(\"Probability of 1 given T: \", t_1/tails)\n",
    "\n"
   ]
  },
  {
   "cell_type": "code",
   "execution_count": 329,
   "metadata": {},
   "outputs": [
    {
     "name": "stdout",
     "output_type": "stream",
     "text": [
      "Number of tails:  2563\n",
      "Number of tails AND 5:  302\n",
      "Probability of 5 given T:  0.11783066718689036\n"
     ]
    }
   ],
   "source": [
    "tails = 0\n",
    "t_5 = 0\n",
    "for item in exp_results:\n",
    "    if(item[0] == \"T\"):\n",
    "        tails += 1\n",
    "        if (item[1] == 5): # the roll\n",
    "            t_5 += 1\n",
    "    \n",
    "print(\"Number of tails: \", tails)\n",
    "print(\"Number of tails AND 5: \", t_5)\n",
    "print(\"Probability of 5 given T: \", t_5/tails)\n",
    "\n"
   ]
  },
  {
   "cell_type": "code",
   "execution_count": 330,
   "metadata": {},
   "outputs": [
    {
     "name": "stdout",
     "output_type": "stream",
     "text": [
      "Number of 5:  302\n",
      "Number of fives AND Tails:  302\n",
      "Probability of T given 5:  1.0\n"
     ]
    }
   ],
   "source": [
    "fives = 0\n",
    "fives_t = 0\n",
    "for item in exp_results:\n",
    "    if(item[1] == 5):\n",
    "        fives += 1\n",
    "        if (item[0] == \"T\"): # the roll\n",
    "            fives_t += 1\n",
    "    \n",
    "print(\"Number of 5: \", fives)\n",
    "print(\"Number of fives AND Tails: \", fives_t)\n",
    "print(\"Probability of T given 5: \", fives_t/fives)\n",
    "\n"
   ]
  },
  {
   "cell_type": "code",
   "execution_count": 331,
   "metadata": {},
   "outputs": [
    {
     "name": "stdout",
     "output_type": "stream",
     "text": [
      "Number of 5:  302\n",
      "Number of fives AND heads:  0\n",
      "Probability of H given 5:  0.0\n"
     ]
    }
   ],
   "source": [
    "fives = 0\n",
    "fives_h = 0\n",
    "for item in exp_results:\n",
    "    if(item[1] == 5):\n",
    "        fives += 1\n",
    "        if (item[0] == \"H\"): # the roll\n",
    "            fives_h += 1\n",
    "    \n",
    "print(\"Number of 5: \", fives)\n",
    "print(\"Number of fives AND heads: \", fives_h)\n",
    "print(\"Probability of H given 5: \", fives_h/fives)\n"
   ]
  },
  {
   "cell_type": "code",
   "execution_count": 332,
   "metadata": {},
   "outputs": [
    {
     "name": "stdout",
     "output_type": "stream",
     "text": [
      "Number of 1:  2158\n",
      "Number of ones AND Tails:  298\n",
      "Probability of T given 1:  0.1380908248378128\n"
     ]
    }
   ],
   "source": [
    "ones = 0\n",
    "ones_t = 0\n",
    "for item in exp_results:\n",
    "    if(item[1] == 1):\n",
    "        ones += 1\n",
    "        if (item[0] == \"T\"): # the roll\n",
    "            ones_t += 1\n",
    "    \n",
    "print(\"Number of 1: \", ones)\n",
    "print(\"Number of ones AND Tails: \", ones_t)\n",
    "print(\"Probability of T given 1: \", ones_t/ones)\n",
    "\n"
   ]
  },
  {
   "cell_type": "code",
   "execution_count": 333,
   "metadata": {},
   "outputs": [
    {
     "name": "stdout",
     "output_type": "stream",
     "text": [
      "Number of 1:  2158\n",
      "Number of 1 AND heads:  1860\n",
      "Probability of H given 1:  0.8619091751621872\n"
     ]
    }
   ],
   "source": [
    "ones = 0\n",
    "ones_h = 0\n",
    "for item in exp_results:\n",
    "    if(item[1] == 1):\n",
    "        ones += 1\n",
    "        if (item[0] == \"H\"): # the roll\n",
    "            ones_h += 1\n",
    "    \n",
    "print(\"Number of 1: \", ones)\n",
    "print(\"Number of 1 AND heads: \", ones_h)\n",
    "print(\"Probability of H given 1: \", ones_h/ones)\n",
    "\n"
   ]
  },
  {
   "cell_type": "markdown",
   "metadata": {},
   "source": [
    "## 2.2 Pregnancy Test\n",
    "\n",
    "A medical lab has developed a new pregnancy test. If the test is applied to a pregnant (denoted by \"P\") case, it\n",
    "will return positive results (denoted by +) with probability α. If the test is applied to a non-pregnant case (denoted\n",
    "by \"N\") it will return negative results (denoted by -) with probability β. Suppose that of all the study population,\n",
    "a fraction γ are pregnant and the rest are non-pregnant.\n",
    "\n",
    "**A)** Find the theoretical expressions of P(+|P), P(−|P), P(+|N), and P(−|N) in terms of α, β, and γ.\n",
    "\n",
    "Answer (Use Latex formatting): P(+|P) = α. P(-|P) = 1 - α. P(+|N) = 1 - β. P(-|N) = β. \n",
    "\n",
    "\n",
    "**B)** Find the theoretical expressions of P(P|+), P(P|−), P(N|−), and P(N|−) in terms of α, β, and γ.\n",
    "\n",
    "Answer: Is in attached PDF \n",
    "\n",
    "\n",
    "**C)** Download and read the file \"PregnancyData.csv\", containing the pregnancy test data for a population of size 10000. The first column demonstrates the index of each case, the second column shows the Pregnancy/Nonpregnancy status, and the third column shows the result of the test on each subject."
   ]
  },
  {
   "cell_type": "code",
   "execution_count": 115,
   "metadata": {},
   "outputs": [
    {
     "data": {
      "text/html": [
       "<div>\n",
       "<style scoped>\n",
       "    .dataframe tbody tr th:only-of-type {\n",
       "        vertical-align: middle;\n",
       "    }\n",
       "\n",
       "    .dataframe tbody tr th {\n",
       "        vertical-align: top;\n",
       "    }\n",
       "\n",
       "    .dataframe thead th {\n",
       "        text-align: right;\n",
       "    }\n",
       "</style>\n",
       "<table border=\"1\" class=\"dataframe\">\n",
       "  <thead>\n",
       "    <tr style=\"text-align: right;\">\n",
       "      <th></th>\n",
       "      <th>Subject_ID</th>\n",
       "      <th>Preg/NonPreg</th>\n",
       "      <th>Test_result</th>\n",
       "    </tr>\n",
       "  </thead>\n",
       "  <tbody>\n",
       "    <tr>\n",
       "      <th>0</th>\n",
       "      <td>0</td>\n",
       "      <td>N</td>\n",
       "      <td>-</td>\n",
       "    </tr>\n",
       "    <tr>\n",
       "      <th>1</th>\n",
       "      <td>1</td>\n",
       "      <td>N</td>\n",
       "      <td>+</td>\n",
       "    </tr>\n",
       "    <tr>\n",
       "      <th>2</th>\n",
       "      <td>2</td>\n",
       "      <td>N</td>\n",
       "      <td>-</td>\n",
       "    </tr>\n",
       "    <tr>\n",
       "      <th>3</th>\n",
       "      <td>3</td>\n",
       "      <td>P</td>\n",
       "      <td>-</td>\n",
       "    </tr>\n",
       "    <tr>\n",
       "      <th>4</th>\n",
       "      <td>4</td>\n",
       "      <td>N</td>\n",
       "      <td>-</td>\n",
       "    </tr>\n",
       "  </tbody>\n",
       "</table>\n",
       "</div>"
      ],
      "text/plain": [
       "   Subject_ID Preg/NonPreg Test_result\n",
       "0           0            N           -\n",
       "1           1            N           +\n",
       "2           2            N           -\n",
       "3           3            P           -\n",
       "4           4            N           -"
      ]
     },
     "execution_count": 115,
     "metadata": {},
     "output_type": "execute_result"
    }
   ],
   "source": [
    "import pandas as pd\n",
    "\n",
    "path_to_data = './PregnancyData.csv'\n",
    "df = pd.read_csv(path_to_data, delimiter = ',')\n",
    "df.head()\n",
    "\n"
   ]
  },
  {
   "cell_type": "markdown",
   "metadata": {},
   "source": [
    "**D)** Estimate the parameters α, β and γ from the data. Explain how you do it"
   ]
  },
  {
   "cell_type": "code",
   "execution_count": 313,
   "metadata": {},
   "outputs": [
    {
     "name": "stdout",
     "output_type": "stream",
     "text": [
      "Alpha:  0.9154334038054969\n",
      "Beta:  0.7976277946887793\n",
      "Gamma:  0.0473\n"
     ]
    }
   ],
   "source": [
    "# alpha is num of num preg / + cases\n",
    "# beta is - / num_Not pregnant\n",
    "# gamma is number pregnant/total entries\n",
    "pos_cases = df[df['Test_result'] == '+']\n",
    "num_preg = np.sum(df['Preg/NonPreg'] == 'P')\n",
    "\n",
    "alpha = np.sum(pos_cases['Preg/NonPreg'] == 'P') / num_preg\n",
    "# 0.91\n",
    "gamma = num_preg / 10000\n",
    "\n",
    "\n",
    "neg_cases = df[df['Test_result'] == '-']\n",
    "num_Npreg = np.sum(df['Preg/NonPreg'] == 'N')\n",
    "beta = np.sum(neg_cases['Preg/NonPreg'] == 'N') / num_Npreg\n",
    "# 0.797\n",
    "\n",
    "print(\"Alpha: \", alpha)\n",
    "print(\"Beta: \", beta)\n",
    "print(\"Gamma: \", gamma)\n"
   ]
  },
  {
   "cell_type": "markdown",
   "metadata": {},
   "source": [
    "**E)** Substitute your estimates of part D in the formulas of parts A and B, and calculate the numerical values of\n",
    "each of the eight conditional probabilities."
   ]
  },
  {
   "cell_type": "code",
   "execution_count": 383,
   "metadata": {},
   "outputs": [
    {
     "name": "stdout",
     "output_type": "stream",
     "text": [
      "p1 - p4 are the probabilities of part A. p5-p8 are the probabilities of part B.\n",
      "\n",
      "0.9154334038054969\n",
      "0.08456659619450313\n",
      "0.2023722053112207\n",
      "0.7976277946887793\n",
      "\n",
      "0.18339686573485817\n",
      "0.0052362874721822205\n",
      "0.9947637125278178\n",
      "0.8166031342651419\n"
     ]
    }
   ],
   "source": [
    "p1 = alpha\n",
    "p2 = 1 - alpha\n",
    "p3 = 1 - beta\n",
    "p4 = beta\n",
    "\n",
    "p5 = (alpha*gamma) / (alpha*gamma + (1-gamma)*(1-beta))\n",
    "p6 = ((1 - alpha)*gamma) / ((1 - alpha)*gamma + (1 - gamma)*beta)\n",
    "p7 = ((1-gamma) * beta) / ((1 - alpha)*gamma + (1 - gamma)*beta)\n",
    "p8 = ((1 - gamma) * (1 - beta)) / (alpha*gamma + (1-gamma)*(1-beta))\n",
    "\n",
    "print('p1 - p4 are the probabilities of part A. p5-p8 are the probabilities of part B.')\n",
    "print()\n",
    "print(p1)\n",
    "print(p2)\n",
    "print(p3)\n",
    "print(p4)\n",
    "print()\n",
    "print(p5)\n",
    "print(p6)\n",
    "print(p7)\n",
    "print(p8)"
   ]
  },
  {
   "cell_type": "markdown",
   "metadata": {},
   "source": [
    "**F)** Now directly estimate the conditional probabilities of parts A and B from the data (Hint: Follow the logic in\n",
    "section 2.1 part C). Compare the results to the numerical results of part E"
   ]
  },
  {
   "cell_type": "code",
   "execution_count": 350,
   "metadata": {},
   "outputs": [
    {
     "name": "stdout",
     "output_type": "stream",
     "text": [
      "p1:  0.9154334038054969\n",
      "p4:  0.7976277946887793\n"
     ]
    }
   ],
   "source": [
    "print('p1: ', alpha) # already directly from data\n",
    "print('p4: ', beta) # already directly from data\n",
    "\n",
    "\n"
   ]
  },
  {
   "cell_type": "code",
   "execution_count": 353,
   "metadata": {},
   "outputs": [
    {
     "data": {
      "text/html": [
       "<div>\n",
       "<style scoped>\n",
       "    .dataframe tbody tr th:only-of-type {\n",
       "        vertical-align: middle;\n",
       "    }\n",
       "\n",
       "    .dataframe tbody tr th {\n",
       "        vertical-align: top;\n",
       "    }\n",
       "\n",
       "    .dataframe thead th {\n",
       "        text-align: right;\n",
       "    }\n",
       "</style>\n",
       "<table border=\"1\" class=\"dataframe\">\n",
       "  <thead>\n",
       "    <tr style=\"text-align: right;\">\n",
       "      <th></th>\n",
       "      <th>Subject_ID</th>\n",
       "      <th>Preg/NonPreg</th>\n",
       "      <th>Test_result</th>\n",
       "    </tr>\n",
       "  </thead>\n",
       "  <tbody>\n",
       "    <tr>\n",
       "      <th>3</th>\n",
       "      <td>3</td>\n",
       "      <td>P</td>\n",
       "      <td>-</td>\n",
       "    </tr>\n",
       "    <tr>\n",
       "      <th>6</th>\n",
       "      <td>6</td>\n",
       "      <td>P</td>\n",
       "      <td>-</td>\n",
       "    </tr>\n",
       "    <tr>\n",
       "      <th>53</th>\n",
       "      <td>53</td>\n",
       "      <td>P</td>\n",
       "      <td>+</td>\n",
       "    </tr>\n",
       "    <tr>\n",
       "      <th>119</th>\n",
       "      <td>119</td>\n",
       "      <td>P</td>\n",
       "      <td>+</td>\n",
       "    </tr>\n",
       "    <tr>\n",
       "      <th>147</th>\n",
       "      <td>147</td>\n",
       "      <td>P</td>\n",
       "      <td>+</td>\n",
       "    </tr>\n",
       "    <tr>\n",
       "      <th>...</th>\n",
       "      <td>...</td>\n",
       "      <td>...</td>\n",
       "      <td>...</td>\n",
       "    </tr>\n",
       "    <tr>\n",
       "      <th>9881</th>\n",
       "      <td>9881</td>\n",
       "      <td>P</td>\n",
       "      <td>+</td>\n",
       "    </tr>\n",
       "    <tr>\n",
       "      <th>9899</th>\n",
       "      <td>9899</td>\n",
       "      <td>P</td>\n",
       "      <td>+</td>\n",
       "    </tr>\n",
       "    <tr>\n",
       "      <th>9936</th>\n",
       "      <td>9936</td>\n",
       "      <td>P</td>\n",
       "      <td>-</td>\n",
       "    </tr>\n",
       "    <tr>\n",
       "      <th>9968</th>\n",
       "      <td>9968</td>\n",
       "      <td>P</td>\n",
       "      <td>+</td>\n",
       "    </tr>\n",
       "    <tr>\n",
       "      <th>9985</th>\n",
       "      <td>9985</td>\n",
       "      <td>P</td>\n",
       "      <td>+</td>\n",
       "    </tr>\n",
       "  </tbody>\n",
       "</table>\n",
       "<p>473 rows × 3 columns</p>\n",
       "</div>"
      ],
      "text/plain": [
       "      Subject_ID Preg/NonPreg Test_result\n",
       "3              3            P           -\n",
       "6              6            P           -\n",
       "53            53            P           +\n",
       "119          119            P           +\n",
       "147          147            P           +\n",
       "...          ...          ...         ...\n",
       "9881        9881            P           +\n",
       "9899        9899            P           +\n",
       "9936        9936            P           -\n",
       "9968        9968            P           +\n",
       "9985        9985            P           +\n",
       "\n",
       "[473 rows x 3 columns]"
      ]
     },
     "execution_count": 353,
     "metadata": {},
     "output_type": "execute_result"
    }
   ],
   "source": [
    "preg_cases = df[df['Preg/NonPreg'] == 'P']\n",
    "preg_cases"
   ]
  },
  {
   "cell_type": "code",
   "execution_count": 354,
   "metadata": {},
   "outputs": [
    {
     "name": "stdout",
     "output_type": "stream",
     "text": [
      "Number pregnant:  473\n",
      "Number pregnant AND negative:  40\n",
      "Probability of negative given pregnant:  0.08456659619450317\n"
     ]
    }
   ],
   "source": [
    "            \n",
    "preg_cases = df[df['Preg/NonPreg'] == 'P']\n",
    "preg_and_neg = np.sum(preg_cases['Test_result'] == '-')\n",
    "\n",
    "print(\"Number pregnant: \", num_preg)\n",
    "print(\"Number pregnant AND negative: \", preg_and_neg)\n",
    "print(\"Probability of negative given pregnant: \", preg_and_neg/num_preg)\n",
    "\n"
   ]
  },
  {
   "cell_type": "code",
   "execution_count": 365,
   "metadata": {},
   "outputs": [
    {
     "name": "stdout",
     "output_type": "stream",
     "text": [
      "Number non-pregnant:  9527\n",
      "Number non-pregnant AND positive:  1928\n",
      "Probability of positive given non-pregnant:  0.20237220531122074\n"
     ]
    }
   ],
   "source": [
    "Npreg_cases = df[df['Preg/NonPreg'] == 'N']\n",
    "Npreg_and_pos = np.sum(Npreg_cases['Test_result'] == '+')\n",
    "num_Npreg = 10000 - num_preg\n",
    "\n",
    "print(\"Number non-pregnant: \", num_Npreg)\n",
    "print(\"Number non-pregnant AND positive: \", Npreg_and_pos)\n",
    "print(\"Probability of positive given non-pregnant: \", Npreg_and_pos/num_Npreg)"
   ]
  },
  {
   "cell_type": "code",
   "execution_count": 382,
   "metadata": {},
   "outputs": [
    {
     "name": "stdout",
     "output_type": "stream",
     "text": [
      "Number positive:  2361\n",
      "Number positive AND pregnant:  433\n",
      "Probability of pregnant given positive:  0.1833968657348581\n"
     ]
    }
   ],
   "source": [
    "num_pos = len(pos_cases.index)\n",
    "pos_and_preg = np.sum(pos_cases['Preg/NonPreg'] == 'P')\n",
    "\n",
    "print(\"Number positive: \", num_pos)\n",
    "print(\"Number positive AND pregnant: \", pos_and_preg)\n",
    "print(\"Probability of pregnant given positive: \", pos_and_preg/num_pos)"
   ]
  },
  {
   "cell_type": "code",
   "execution_count": 386,
   "metadata": {},
   "outputs": [
    {
     "name": "stdout",
     "output_type": "stream",
     "text": [
      "Number negative:  7639\n",
      "Number negative AND pregnant:  40\n",
      "Probability of pregnant given negative:  0.005236287472182223\n"
     ]
    }
   ],
   "source": [
    "num_neg = len(neg_cases.index)\n",
    "neg_and_preg = np.sum(neg_cases['Preg/NonPreg'] == 'P')\n",
    "\n",
    "\n",
    "print(\"Number negative: \", num_neg)\n",
    "print(\"Number negative AND pregnant: \", neg_and_preg)\n",
    "print(\"Probability of pregnant given negative: \", neg_and_preg/num_neg)"
   ]
  },
  {
   "cell_type": "code",
   "execution_count": 387,
   "metadata": {},
   "outputs": [
    {
     "name": "stdout",
     "output_type": "stream",
     "text": [
      "Number negative:  7639\n",
      "Number negative AND not-pregnant:  7599\n",
      "Probability of not-pregnant given negative:  0.9947637125278178\n"
     ]
    }
   ],
   "source": [
    "neg_and_npreg = np.sum(neg_cases['Preg/NonPreg'] == 'N')\n",
    "\n",
    "print(\"Number negative: \", num_neg)\n",
    "print(\"Number negative AND not-pregnant: \", neg_and_npreg)\n",
    "print(\"Probability of not-pregnant given negative: \", neg_and_npreg/num_neg)"
   ]
  },
  {
   "cell_type": "code",
   "execution_count": 388,
   "metadata": {},
   "outputs": [
    {
     "name": "stdout",
     "output_type": "stream",
     "text": [
      "Number positive:  2361\n",
      "Number positive AND not-pregnant:  1928\n",
      "Probability of not-pregnant given positive:  0.8166031342651419\n"
     ]
    }
   ],
   "source": [
    "pos_and_npreg = np.sum(pos_cases['Preg/NonPreg'] == 'N')\n",
    "\n",
    "print(\"Number positive: \", num_pos)\n",
    "print(\"Number positive AND not-pregnant: \", pos_and_npreg)\n",
    "print(\"Probability of not-pregnant given positive: \", pos_and_npreg/num_pos)"
   ]
  }
 ],
 "metadata": {
  "kernelspec": {
   "display_name": "Python 3",
   "language": "python",
   "name": "python3"
  },
  "language_info": {
   "codemirror_mode": {
    "name": "ipython",
    "version": 3
   },
   "file_extension": ".py",
   "mimetype": "text/x-python",
   "name": "python",
   "nbconvert_exporter": "python",
   "pygments_lexer": "ipython3",
   "version": "3.7.1"
  },
  "varInspector": {
   "cols": {
    "lenName": 16,
    "lenType": 16,
    "lenVar": 40
   },
   "kernels_config": {
    "python": {
     "delete_cmd_postfix": "",
     "delete_cmd_prefix": "del ",
     "library": "var_list.py",
     "varRefreshCmd": "print(var_dic_list())"
    },
    "r": {
     "delete_cmd_postfix": ") ",
     "delete_cmd_prefix": "rm(",
     "library": "var_list.r",
     "varRefreshCmd": "cat(var_dic_list()) "
    }
   },
   "types_to_exclude": [
    "module",
    "function",
    "builtin_function_or_method",
    "instance",
    "_Feature"
   ],
   "window_display": false
  }
 },
 "nbformat": 4,
 "nbformat_minor": 4
}
