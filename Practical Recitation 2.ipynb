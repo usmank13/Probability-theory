{
 "cells": [
  {
   "cell_type": "code",
   "execution_count": 1,
   "metadata": {},
   "outputs": [],
   "source": [
    "import numpy as np\n",
    "import matplotlib.pyplot as plt"
   ]
  },
  {
   "cell_type": "markdown",
   "metadata": {},
   "source": [
    "## Overview\n",
    "\n",
    "In this part of the lab, we will look at how to use simulation to investigate the distributions and expectations of random variables. "
   ]
  },
  {
   "cell_type": "markdown",
   "metadata": {},
   "source": [
    "### A Random Walk\n",
    "\n",
    "Probabilities and Conditional Probabilities\n",
    "1. What is $P(k | p = 0.5)$?\n",
    "2. What is the probability of rolling 10 heads in a row? \n",
    "3. Given two coins $(p_A = 0.5,p_B = 0.51)$, what is the $P(coint=A|k)$?\n",
    "\n",
    "Expectation, Mean, and Variance\n",
    "1. Numerically find the mean and variance\n",
    "2. Find the theoretical mean and variance\n",
    "\n",
    "### If Time Permits\n",
    "Monty Hall Problem or Letter Sorting Problem"
   ]
  },
  {
   "cell_type": "markdown",
   "metadata": {},
   "source": [
    "### Probabilities and Conditional Probabilities\n",
    "\n",
    "Some of your friends in the statistics department are playing a game. Here are the rules:\n",
    "1. Each player starts with a chip on the ground. \n",
    "2. A coin is flipped. If H, the chip is moved 1 cm to the right. If T, the chip is moved 1 cm to the left.\n",
    "3. This is repeated 1000 times. \n",
    "4. The winner is the player whose chip is furthest to the right. \n",
    "\n",
    "Create a function called 'random_walk' which simulates this random walk and outputs the final location of the chip for a given player. Provide an argument p to allow the coin to be biased."
   ]
  },
  {
   "cell_type": "code",
   "execution_count": 2,
   "metadata": {},
   "outputs": [],
   "source": [
    "def random_walk(n_steps = 1000,p=0.5):\n",
    "    \n",
    "    steps = (np.random.uniform(0,1,size=n_steps) <= p).astype(int)*2-1\n",
    "    \n",
    "    x = np.sum(steps)\n",
    "    \n",
    "    return x"
   ]
  },
  {
   "cell_type": "markdown",
   "metadata": {},
   "source": [
    "Plot the empirical distribution for the final location of a given player given p = 0.5. Repeat the experiment at least 100000 times. What is the probability of getting more than 50 cm away from the starting point? "
   ]
  },
  {
   "cell_type": "code",
   "execution_count": 6,
   "metadata": {},
   "outputs": [
    {
     "data": {
      "text/plain": [
       "1.0"
      ]
     },
     "execution_count": 6,
     "metadata": {},
     "output_type": "execute_result"
    },
    {
     "data": {
      "image/png": "[encoded data removed]",
      "text/plain": [
       "<Figure size 432x288 with 1 Axes>"
      ]
     },
     "metadata": {
      "needs_background": "light"
     },
     "output_type": "display_data"
    }
   ],
   "source": [
    "n_trials = 100000\n",
    "\n",
    "samples = np.array([random_walk(p=0.5) for _ in range(n_trials)])\n",
    "X = np.unique(samples)\n",
    "p_X = np.array([np.sum(samples == x)/len(samples) for x in X])\n",
    "\n",
    "plt.plot(X,p_X,'.-')\n",
    "np.sum(p_X)\n",
    "\n",
    "# x,counts = np.unique(samples,return_counts=True)\n",
    "# p = counts/len(samples)\n",
    "# plt.plot(x,p,'.-')"
   ]
  },
  {
   "cell_type": "code",
   "execution_count": 7,
   "metadata": {},
   "outputs": [
    {
     "data": {
      "text/plain": [
       "0.05378000000000001"
      ]
     },
     "execution_count": 7,
     "metadata": {},
     "output_type": "execute_result"
    }
   ],
   "source": [
    "np.sum(p_X[X > 50])"
   ]
  },
  {
   "cell_type": "markdown",
   "metadata": {},
   "source": [
    "Calculate the theoretical value for this event.\n",
    "\n",
    "Lets set up the sample space:\n",
    "\n",
    "\\begin{equation}\n",
    "\\Omega = \\{w_1w_2...w_N | w_i \\in \\{H,T\\}, i=1...N\\}\n",
    "\\end{equation}\n",
    "\n",
    "For example, a particular outcome might be $HTHHHT...H$. Let the probability of an individual roll coming up heads be denoted by p. We assume that outcomes of individual rolls are independent. So the probability of a particular sequence even by\n",
    "\n",
    "\\begin{equation}\n",
    "P(w_1w_2...w_N) = p^{n_H}(1-p)^{n_T} = p^{n_H}(1-p)^{N-n_H}\n",
    "\\end{equation}\n",
    "\n",
    "where $n_H$ is the number of heads. \n",
    "\n",
    "\n",
    "\n",
    "In our game, the destination, $x$, is a random variable that maps from $\\Omega$ to the real numbers. Let's determine that mapping. For a given destination, $x$, how many steps to the left and right are needed to arrive at $x$, given N total steps? \n",
    "\n",
    "\\begin{equation}\n",
    "\\begin{split}\n",
    "x &= n_H - n_T\\\\\n",
    "N &= n_H + n_T\\\\\n",
    "x + N &= 2n_H\\\\\n",
    "x &= 2n_H - N\\\\\n",
    "\\end{split}\n",
    "\\end{equation}\n",
    "\n",
    "What is the probability that $n_H$ is equal to a given number (e.g. k = (x + N)/2)). We know that the probability of a specific roll having $k$ heads is given by $p^{n_H}(1-p)^{N-n_H}$. But this undercounts because there are N choose k different ways of picking the $i$'s for which $w_i = H$. Therefore the probability is given by\n",
    "\n",
    "\\begin{equation}\n",
    "P(k|p,N) = {N \\choose k}p^k(1-p)^{N-k}\n",
    "\\end{equation}\n",
    "\n",
    "In our case, we need to find the probability that $k > (N + x)/2 = 525$"
   ]
  },
  {
   "cell_type": "code",
   "execution_count": 9,
   "metadata": {},
   "outputs": [
    {
     "name": "stdout",
     "output_type": "stream",
     "text": [
      "0.05337477101718193\n"
     ]
    }
   ],
   "source": [
    "from scipy.special import comb\n",
    "\n",
    "p_gt50 = 0\n",
    "N = 1000\n",
    "p_H = 0.5\n",
    "\n",
    "for k in range(526,N+1):\n",
    "    p_gt50 += comb(N,k)*(p_H**k)*(1-p_H)**(N-k)\n",
    "\n",
    "print(p_gt50)"
   ]
  },
  {
   "cell_type": "markdown",
   "metadata": {},
   "source": [
    "Let's go ahead and compare the empirical and theoretical distributions:"
   ]
  },
  {
   "cell_type": "code",
   "execution_count": 11,
   "metadata": {},
   "outputs": [
    {
     "data": {
      "text/plain": [
       "[<matplotlib.lines.Line2D at 0x12ce2eaa828>]"
      ]
     },
     "execution_count": 11,
     "metadata": {},
     "output_type": "execute_result"
    },
    {
     "data": {
      "image/png": "[encoded data removed]",
      "text/plain": [
       "<Figure size 432x288 with 1 Axes>"
      ]
     },
     "metadata": {
      "needs_background": "light"
     },
     "output_type": "display_data"
    }
   ],
   "source": [
    "q_X = []\n",
    "\n",
    "for x in X:\n",
    "    k = (N+x)/2\n",
    "    q_X.append(comb(N,k)*(p_H**k)*(1-p_H)**(N-k))\n",
    "\n",
    "plt.plot(X,p_X,'.-')\n",
    "plt.plot(X,q_X)"
   ]
  },
  {
   "cell_type": "markdown",
   "metadata": {},
   "source": [
    "**Rolling 10 Heads in a Row**\n",
    "\n",
    "Sam and Katie are two of your statistician friends. In the last game, Katie rolled heads 10 times in a row, prompting sam to suspect fowl play. What is probability of rolling 10 Heads in a row? "
   ]
  },
  {
   "cell_type": "code",
   "execution_count": 12,
   "metadata": {},
   "outputs": [
    {
     "name": "stdout",
     "output_type": "stream",
     "text": [
      "0.38543\n"
     ]
    }
   ],
   "source": [
    "N = 100000\n",
    "\n",
    "count = 0\n",
    "reps = 10\n",
    "\n",
    "for _ in range(N):\n",
    "    steps = (np.random.uniform(0,1,size=1000) < 0.5).astype(int)       \n",
    "    m = np.max(np.convolve(steps, np.ones(reps), mode='valid'))\n",
    "    if m == reps:\n",
    "        count += 1\n",
    "    \n",
    "p = count/N\n",
    "print(p)"
   ]
  },
  {
   "cell_type": "markdown",
   "metadata": {},
   "source": [
    "How would you calculate this probability theoretically? Answer: Not easily. "
   ]
  },
  {
   "cell_type": "markdown",
   "metadata": {},
   "source": [
    "**Conditional Probability: Which Coin**\n",
    "\n",
    "Eustice is another friend in the statistics deparment. He has bragged to Sam that he has a weighted coin that gives heads 51% of the time. But he only uses it one in every 10 games so that the referees don't catch on (He rolls a 10 sided die to determine whether he should use it). Eustice has just won two games by ending with his piece 40 cm and 75 cm to the right. Calculate the probability that he used his weighted coin, given that the final location was greater than 40cm and 75cm. "
   ]
  },
  {
   "cell_type": "code",
   "execution_count": 14,
   "metadata": {},
   "outputs": [],
   "source": [
    "N = 100000\n",
    "\n",
    "p_coin = np.array([(0.5 if p < 0.9 else 0.51) for p in np.random.uniform(size=N)])\n",
    "samples = np.array([random_walk(p=p) for p in p_coin])"
   ]
  },
  {
   "cell_type": "code",
   "execution_count": 20,
   "metadata": {},
   "outputs": [
    {
     "name": "stdout",
     "output_type": "stream",
     "text": [
      "Number of trials > 40cm: 11333\n",
      "Number of cheating trials > 40 cm: 2448\n",
      "\n",
      "Probability of cheating given > 40 cm: 0.21600635312803318\n",
      "Probability of playing fair given > 40 cm: 0.7839936468719668\n"
     ]
    }
   ],
   "source": [
    "# P(A|B) = P(A and B)/P(B) = N(A and B)/N(B)\n",
    "\n",
    "X_final = 40\n",
    "\n",
    "N_gtX = np.sum(samples > X_final)\n",
    "print(f'Number of trials > {X_final}cm: {N_gtX}')\n",
    "\n",
    "N_gtX_and_cheating = np.sum(np.logical_and(samples > X_final,p_coin == 0.51))\n",
    "print(f'Number of cheating trials > {X_final} cm: {N_gtX_and_cheating}\\n')\n",
    "\n",
    "print(f'Probability of cheating given > {X_final} cm: {N_gtX_and_cheating/N_gtX}')\n",
    "\n",
    "N_gtX_and_fair = np.sum(np.logical_and(samples > X_final,p_coin == 0.50))\n",
    "\n",
    "print(f'Probability of playing fair given > {X_final} cm: {N_gtX_and_fair/N_gtX}')"
   ]
  },
  {
   "cell_type": "code",
   "execution_count": 21,
   "metadata": {},
   "outputs": [
    {
     "name": "stdout",
     "output_type": "stream",
     "text": [
      "Number of trials > 75cm: 1146\n",
      "Number of cheating trials > 75 cm: 392\n",
      "\n",
      "Probability of cheating given > 75 cm: 0.34205933682373474\n",
      "Probability of playing fair given > 75 cm: 0.6579406631762653\n"
     ]
    }
   ],
   "source": [
    "# P(A|B) = P(A and B)/P(B) = N(A and B)/N(B)\n",
    "\n",
    "X_final = 75\n",
    "\n",
    "N_gtX = np.sum(samples > X_final)\n",
    "print(f'Number of trials > {X_final}cm: {N_gtX}')\n",
    "\n",
    "N_gtX_and_cheating = np.sum(np.logical_and(samples > X_final,p_coin == 0.51))\n",
    "print(f'Number of cheating trials > {X_final} cm: {N_gtX_and_cheating}\\n')\n",
    "\n",
    "print(f'Probability of cheating given > {X_final} cm: {N_gtX_and_cheating/N_gtX}')\n",
    "\n",
    "N_gtX_and_fair = np.sum(np.logical_and(samples > X_final,p_coin == 0.50))\n",
    "\n",
    "print(f'Probability of playing fair given > {X_final} cm: {N_gtX_and_fair/N_gtX}')"
   ]
  },
  {
   "cell_type": "markdown",
   "metadata": {},
   "source": [
    "How do we calculate this theoretically? You should think about this. "
   ]
  },
  {
   "cell_type": "markdown",
   "metadata": {},
   "source": [
    "### Expectations, Mean, and Variance\n",
    "\n",
    "Everything that we've done above is supported by the law of large numbers, which states that as $N \\rightarrow \\infty$, the empirical average of the samples of a random variable converges to the expecation of the random variable, that is\n",
    "\n",
    "\\begin{equation}\n",
    "\\frac{1}{N}\\sum_1^N X_i \\rightarrow E[X]\n",
    "\\end{equation}\n",
    "\n",
    "In the case of the probabilities, $P[X = x]$, we have been examining, consider that \n",
    "\n",
    "\\begin{equation}\n",
    "\\frac{\\text{# of samples with X = x}}{\\text{total number of samples}}=\\frac{1}{N}\\sum_1^N 1_{\\{X_i = x\\}} \\rightarrow E[1_{\\{X_i = x\\}}] = P[X = x]\n",
    "\\end{equation}\n",
    "\n",
    "In this section, we will estimate some other expecations, namely, the mean $\\mu = E[X]$ and the variance $\\text{var}(X) = E[X^2] - \\mu^2$"
   ]
  },
  {
   "cell_type": "markdown",
   "metadata": {},
   "source": [
    "**Empirical mean and variance**\n",
    "\n",
    "Calculate the empirical mean and variance for N=1000, p={0.5,0.7}"
   ]
  },
  {
   "cell_type": "code",
   "execution_count": 25,
   "metadata": {},
   "outputs": [
    {
     "name": "stdout",
     "output_type": "stream",
     "text": [
      "Mean: -0.01582, Variance: 1002.9441097276, Standard Dev: 31.669292851713628\n"
     ]
    }
   ],
   "source": [
    "n_trials = 100000\n",
    "samples = np.array([random_walk(p=0.5) for _ in range(n_trials)])\n",
    "\n",
    "mu = np.mean(samples)\n",
    "\n",
    "var = np.mean(samples**2) - mu**2\n",
    "std = np.sqrt(var)\n",
    "\n",
    "print(f'Mean: {mu}, Variance: {var}, Standard Dev: {std}')"
   ]
  },
  {
   "cell_type": "code",
   "execution_count": 26,
   "metadata": {},
   "outputs": [
    {
     "name": "stdout",
     "output_type": "stream",
     "text": [
      "Mean: 399.81824, Variance: 830.8443233023863, Standard Dev: 28.8243703019231\n"
     ]
    }
   ],
   "source": [
    "n_trials = 100000\n",
    "samples = np.array([random_walk(p=0.7) for _ in range(n_trials)])\n",
    "\n",
    "mu = np.mean(samples)\n",
    "\n",
    "var = np.mean(samples**2) - mu**2\n",
    "std = np.sqrt(var)\n",
    "\n",
    "print(f'Mean: {mu}, Variance: {var}, Standard Dev: {std}')"
   ]
  },
  {
   "cell_type": "markdown",
   "metadata": {},
   "source": [
    "**Theoretical Mean and Variance**"
   ]
  },
  {
   "cell_type": "code",
   "execution_count": 32,
   "metadata": {},
   "outputs": [
    {
     "name": "stdout",
     "output_type": "stream",
     "text": [
      "Mean: 0.0, Variance: 1000.0\n"
     ]
    }
   ],
   "source": [
    "N = 1000\n",
    "p_H = 0.5\n",
    "mu_nH = N*p_H\n",
    "var_nH = N*p_H*(1-p_H)\n",
    "\n",
    "mu = 2*mu_nH - N\n",
    "var = 4*var_nH\n",
    "\n",
    "print(f'Mean: {mu}, Variance: {var}')"
   ]
  },
  {
   "cell_type": "code",
   "execution_count": 33,
   "metadata": {},
   "outputs": [
    {
     "name": "stdout",
     "output_type": "stream",
     "text": [
      "Mean: 400.0, Variance: 840.0000000000001\n"
     ]
    }
   ],
   "source": [
    "N = 1000\n",
    "p_H = 0.7\n",
    "mu_nH = N*p_H\n",
    "var_nH = N*p_H*(1-p_H)\n",
    "\n",
    "mu = 2*mu_nH - N\n",
    "var = 4*var_nH\n",
    "\n",
    "print(f'Mean: {mu}, Variance: {var}')"
   ]
  }
 ],
 "metadata": {
  "kernelspec": {
   "display_name": "Python 3",
   "language": "python",
   "name": "python3"
  },
  "language_info": {
   "codemirror_mode": {
    "name": "ipython",
    "version": 3
   },
   "file_extension": ".py",
   "mimetype": "text/x-python",
   "name": "python",
   "nbconvert_exporter": "python",
   "pygments_lexer": "ipython3",
   "version": "3.7.1"
  },
  "varInspector": {
   "cols": {
    "lenName": 16,
    "lenType": 16,
    "lenVar": 40
   },
   "kernels_config": {
    "python": {
     "delete_cmd_postfix": "",
     "delete_cmd_prefix": "del ",
     "library": "var_list.py",
     "varRefreshCmd": "print(var_dic_list())"
    },
    "r": {
     "delete_cmd_postfix": ") ",
     "delete_cmd_prefix": "rm(",
     "library": "var_list.r",
     "varRefreshCmd": "cat(var_dic_list()) "
    }
   },
   "types_to_exclude": [
    "module",
    "function",
    "builtin_function_or_method",
    "instance",
    "_Feature"
   ],
   "window_display": false
  }
 },
 "nbformat": 4,
 "nbformat_minor": 4
}
