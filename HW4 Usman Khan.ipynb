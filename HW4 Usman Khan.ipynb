{
 "cells": [
  {
   "cell_type": "code",
   "execution_count": 1,
   "metadata": {},
   "outputs": [],
   "source": [
    "import numpy as np\n"
   ]
  },
  {
   "cell_type": "code",
   "execution_count": 14,
   "metadata": {},
   "outputs": [],
   "source": [
    "def data_sample():\n",
    "    mu = 6\n",
    "    W = np.random.normal(4, 2) # mean is 4, variance is sqrt(4)\n",
    "    return mu + W\n",
    "\n",
    "samples = [data_sample() for i in range(50)]\n"
   ]
  },
  {
   "cell_type": "code",
   "execution_count": 34,
   "metadata": {},
   "outputs": [
    {
     "name": "stdout",
     "output_type": "stream",
     "text": [
      "Lower bound:  5.265628283549747\n",
      "Upper bound:  6.374371716450254\n"
     ]
    }
   ],
   "source": [
    "EW = 4\n",
    "VarW = 4\n",
    "n = 50\n",
    "Ybar = np.mean(np.asarray(samples))\n",
    "lower_bound = Ybar - EW - 1.96 * np.sqrt(VarW / n)\n",
    "\n",
    "upper_bound = Ybar - EW + 1.96 * np.sqrt(VarW / n)\n",
    "\n",
    "print('Lower bound: ', lower_bound)\n",
    "print('Upper bound: ', upper_bound)"
   ]
  },
  {
   "cell_type": "markdown",
   "metadata": {},
   "source": [
    "c) The true value does lie within this interval"
   ]
  },
  {
   "cell_type": "code",
   "execution_count": 35,
   "metadata": {},
   "outputs": [
    {
     "name": "stdout",
     "output_type": "stream",
     "text": [
      "0.9527\n"
     ]
    }
   ],
   "source": [
    "n_trials = 10000\n",
    "samples_per_trial = 100\n",
    "results = [] # this will be a list of booleans\n",
    "within_interval = 0\n",
    "mu = 6\n",
    "for i in range(n_trials):\n",
    "    samples = [data_sample() for i in range(samples_per_trial)]\n",
    "    EW = 4\n",
    "    VarW = 4\n",
    "    Ybar = np.mean(np.asarray(samples))\n",
    "    lower_bound = Ybar - EW - 1.96 * np.sqrt(VarW / samples_per_trial)\n",
    "    upper_bound = Ybar - EW + 1.96 * np.sqrt(VarW / samples_per_trial)\n",
    "    \n",
    "    if ((mu >= lower_bound) and (mu <= upper_bound)):\n",
    "        within_interval += 1\n",
    "\n",
    "p_within = within_interval / n_trials\n",
    "print(p_within)\n",
    "    "
   ]
  },
  {
   "cell_type": "markdown",
   "metadata": {},
   "source": [
    "The percent of the time the value falls within the bounds is 95.27%. This matches the 95% confidence interval. "
   ]
  },
  {
   "cell_type": "code",
   "execution_count": 26,
   "metadata": {},
   "outputs": [],
   "source": [
    "def poiss_data_sample():\n",
    "    mu = 6\n",
    "    W = np.random.poisson(lam=4) # mean is 4, variance is sqrt(4)\n",
    "    return mu + W\n",
    "poiss_samples = [poiss_data_sample() for _ in range(50)]\n",
    "\n"
   ]
  },
  {
   "cell_type": "code",
   "execution_count": 27,
   "metadata": {},
   "outputs": [
    {
     "name": "stdout",
     "output_type": "stream",
     "text": [
      "Lower bound:  5.605628283549747\n",
      "Upper bound:  6.714371716450254\n"
     ]
    }
   ],
   "source": [
    "# mean and variance are same in possion RV\n",
    "\n",
    "EW = 4\n",
    "VarW = 4\n",
    "n = 50\n",
    "Ybar = np.mean(np.asarray(poiss_samples))\n",
    "lower_bound = Ybar - EW - 1.96 * np.sqrt(VarW / n)\n",
    "upper_bound = Ybar - EW + 1.96 * np.sqrt(VarW / n)\n",
    "\n",
    "print('Lower bound: ', lower_bound)\n",
    "print('Upper bound: ', upper_bound)"
   ]
  },
  {
   "cell_type": "markdown",
   "metadata": {},
   "source": [
    "c) Yes, the true value is within the bounds "
   ]
  },
  {
   "cell_type": "code",
   "execution_count": 36,
   "metadata": {},
   "outputs": [
    {
     "name": "stdout",
     "output_type": "stream",
     "text": [
      "1.0\n"
     ]
    }
   ],
   "source": [
    "n_trials = 10000\n",
    "samples_per_trial = 50\n",
    "results = [] # this will be a list of booleans\n",
    "within_interval = 0\n",
    "mu = 6\n",
    "for i in range(n_trials):\n",
    "    samples = [poiss_data_sample() for i in range(samples_per_trial)]\n",
    "    EW = 4\n",
    "    VarW = 4\n",
    "    n = 50\n",
    "    Ybar = np.mean(np.asarray(poiss_samples))\n",
    "    lower_bound = Ybar - EW - 1.96 * np.sqrt(VarW / n)\n",
    "    upper_bound = Ybar - EW + 1.96 * np.sqrt(VarW / n)\n",
    "    \n",
    "    if ((mu >= lower_bound) and (mu <= upper_bound)):\n",
    "        within_interval += 1\n",
    "\n",
    "p_within = within_interval / n_trials\n",
    "print(p_within)"
   ]
  },
  {
   "cell_type": "markdown",
   "metadata": {},
   "source": [
    "The samples fall within the bound 100% of the time. "
   ]
  }
 ],
 "metadata": {
  "kernelspec": {
   "display_name": "Python 3",
   "language": "python",
   "name": "python3"
  },
  "language_info": {
   "codemirror_mode": {
    "name": "ipython",
    "version": 3
   },
   "file_extension": ".py",
   "mimetype": "text/x-python",
   "name": "python",
   "nbconvert_exporter": "python",
   "pygments_lexer": "ipython3",
   "version": "3.7.1"
  }
 },
 "nbformat": 4,
 "nbformat_minor": 4
}
