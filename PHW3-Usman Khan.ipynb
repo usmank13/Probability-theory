{
 "cells": [
  {
   "cell_type": "code",
   "execution_count": 2,
   "metadata": {},
   "outputs": [],
   "source": [
    "import numpy as np\n",
    "import matplotlib.pyplot as plt"
   ]
  },
  {
   "cell_type": "markdown",
   "metadata": {},
   "source": [
    "# 1. Bit Torrent\n",
    "\n",
    "In this problem, we will reconsider aspects of problem 3 from THW3. "
   ]
  },
  {
   "cell_type": "markdown",
   "metadata": {},
   "source": [
    "### 1. a) Create a simulator\n",
    "\n",
    "Create a function called `download_file` which performs a simulation of the download process described in the THW3. The function should take an argument, `m`, indicating the number of chunks into which the file is divided. At each step, any of the `m` chunks is equally likely to be downloaded, even if it has been previously downloaded (imagine that the only way to see which chunk is contained on a server to to download the chunk). The function should return an array called `first_seen` which contains the steps on which each chunk of the file was first seen. For example, if the 1st chunk was first seen on the 4th step, then the first element (at index 0) of the array should be assigned to 4. If the 2nd chunk was first seen on the 18th step, then the second element (at index 1) should be assigned to 18. And so on.\n",
    "\n",
    "Run the simulated function a large number (e.g. $N=50000$) times with $m=10$, and save the results in a $N \\times m$ numpy array."
   ]
  },
  {
   "cell_type": "code",
   "execution_count": 3,
   "metadata": {},
   "outputs": [],
   "source": [
    "def download_file(m=10):\n",
    "    # while not all the chunks have been seen\n",
    "    # choose a random chunk \n",
    "    # have a variable counting which step we are on\n",
    "    # if we haven't seen it before, add the step we saw it to seen[chunk - 1]\n",
    "    all_seen = False\n",
    "    step = 1\n",
    "    seen = np.zeros(m)\n",
    "    while (not all_seen):\n",
    "        choices = np.arange(1, m+1, 1) # [1,2,3,4,5,6,7,8,9,10] all the possible chunks\n",
    "        chunk = np.random.choice(choices)\n",
    "        if (seen[chunk-1] == 0): # if we haven't seen the chunk before\n",
    "            seen[chunk - 1] = step\n",
    "        if (not (0 in seen)): # we've seen everything if there are no more 0's in the array \n",
    "            all_seen = True\n",
    "        step += 1\n",
    "    return seen\n",
    "\n",
    "# seen: [3, 5, 0, 0, 0, 0, 0, 0, 0]"
   ]
  },
  {
   "cell_type": "code",
   "execution_count": 14,
   "metadata": {},
   "outputs": [
    {
     "data": {
      "text/plain": [
       "array([ 9.,  3., 15.,  8.,  4.,  7., 18.,  2., 29.,  1.])"
      ]
     },
     "execution_count": 14,
     "metadata": {},
     "output_type": "execute_result"
    }
   ],
   "source": [
    "download_file()"
   ]
  },
  {
   "cell_type": "code",
   "execution_count": 13,
   "metadata": {},
   "outputs": [
    {
     "data": {
      "text/plain": [
       "array([[ 2.,  6., 35.,  8.],\n",
       "       [22., 11.,  1.,  6.],\n",
       "       [ 3.,  1., 17.,  2.],\n",
       "       ...,\n",
       "       [ 9.,  3., 15.,  2.],\n",
       "       [ 5.,  1., 12.,  4.],\n",
       "       [ 6.,  1., 10., 21.]])"
      ]
     },
     "execution_count": 13,
     "metadata": {},
     "output_type": "execute_result"
    }
   ],
   "source": [
    "N = 50000\n",
    "m = 10\n",
    "result = []\n",
    "for _ in range(N):\n",
    "    item = download_file(m)\n",
    "    result.append(item)\n",
    "result = np.asarray(result)\n",
    "result.shape\n",
    "result[:, 1:5]"
   ]
  },
  {
   "cell_type": "markdown",
   "metadata": {},
   "source": [
    "### 1. b) Compare the theoretical and empirical distribution for time to see 1 chunk\n",
    "\n",
    "Let $X$ be the step on which chunk number 1 is first seen. How is $X$ distributed? Use the samples from part a) to empircally estimate $P(X)$. Plot  the empirical distribution and the theoretical distribution together on the same graph, and confirm that they agree. "
   ]
  },
  {
   "cell_type": "code",
   "execution_count": 54,
   "metadata": {},
   "outputs": [
    {
     "data": {
      "text/plain": [
       "<matplotlib.legend.Legend at 0x14cb9691d68>"
      ]
     },
     "execution_count": 54,
     "metadata": {},
     "output_type": "execute_result"
    },
    {
     "data": {
      "image/png": "[encoded data removed]",
      "text/plain": [
       "<Figure size 432x288 with 1 Axes>"
      ]
     },
     "metadata": {
      "needs_background": "light"
     },
     "output_type": "display_data"
    }
   ],
   "source": [
    "\n",
    "# Compare the empirical and theoretical distribution\n",
    "\n",
    "# X is going to be the first column of the resulting nxm numpy array\n",
    "X = result[:,0]\n",
    "\n",
    "# find the probability that X = k\n",
    "# P(X=1), P(X=2)\n",
    "# find_p_k(1, X) --> P(X=1)\n",
    "def find_p_k(k, X):\n",
    "    # count the number of k's in x, divide by total \n",
    "    num_k = 0 # number of times we see that X = k\n",
    "    for num in X:\n",
    "        if (num == k): # each time we see k, we increment num_k \n",
    "            num_k += 1\n",
    "    p_k = num_k / len(X)\n",
    "    return p_k\n",
    "\n",
    "k_list = np.arange(1, X.max()+1, 1)\n",
    "pk_list = np.zeros(int(X.max())) \n",
    "for k in range(len(pk_list)): # all the posisble K's\n",
    "    pk_list[k] = find_p_k(k,X)\n",
    "\n",
    "    \n",
    "plt.figure()\n",
    "plt.plot(k_list, pk_list, '.')\n",
    "\n",
    "# theoretical distribution\n",
    "p = 1/m\n",
    "f_k = [((1 - p) ** (k - 1)) * p for k in k_list]\n",
    "plt.plot(k_list, f_k)\n",
    "\n",
    "plt.title('Empirical Distribution and Theoretical Distribution')\n",
    "plt.legend(['Empirical','Theoretical'])\n",
    "\n"
   ]
  },
  {
   "cell_type": "markdown",
   "metadata": {},
   "source": [
    "X is a geometric distribution"
   ]
  },
  {
   "cell_type": "markdown",
   "metadata": {},
   "source": [
    "### 1. c) Theoretical vs Empirical Expected Values\n",
    "\n",
    "Empirically estimate the expected values of the following random variables: \n",
    "- X, the number of steps to see the first chunk\n",
    "- Y, the number of steps to see the first and second chunks\n",
    "- Z, the number of steps to see all chunks\n",
    " \n",
    "For each empirical estimate, also give the theoretical value (You found the first two in your homework; the third was covered during the THW3 recitation)"
   ]
  },
  {
   "cell_type": "code",
   "execution_count": 186,
   "metadata": {},
   "outputs": [
    {
     "name": "stdout",
     "output_type": "stream",
     "text": [
      "Theory (E[X]):\n",
      "10\n",
      "Empirical:\n",
      "10.05378\n",
      "\n",
      "\n",
      "Theory (E[Y]):\n",
      "15.0\n",
      "Empirical:\n",
      "15.0284\n",
      "\n",
      "\n",
      "Theory (E[Z]):\n",
      "29.2\n",
      "Empirical:\n",
      "29.27676\n"
     ]
    }
   ],
   "source": [
    "# Compare the theoretical and empirical expected value\n",
    "# find empirical expectation by multiplying our empirical dist to different values of X\n",
    "# find theoretical expectation by multiplying our theoretical dist to different values of X\n",
    "\n",
    "\n",
    "# Number of steps to see the first chunk\n",
    "print('Theory (E[X]):')\n",
    "print(10)\n",
    "print('Empirical:')\n",
    "print(X.mean())\n",
    "\n",
    "print('\\n')\n",
    "\n",
    "# Number of steps to see the first and second chunks is the higher number between index 0 and index 1\n",
    "Yint = result[:,0:2]\n",
    "Y = np.zeros(len(Yint))\n",
    "for index in range(len(Yint)):\n",
    "    Y[index] = np.max(Yint[index])\n",
    "\n",
    "\n",
    "print('Theory (E[Y]):')\n",
    "print(30/2)\n",
    "print('Empirical:')\n",
    "print(np.mean(Y))\n",
    "print('\\n')\n",
    "\n",
    "Z = np.zeros(50000)\n",
    "for j in range(50000):\n",
    "    Z[j] = np.max(result[j])\n",
    "\n",
    "# Number of steps to see all chunks\n",
    "print('Theory (E[Z]):')\n",
    "print(29.2) # TODO: check this\n",
    "print('Empirical:')\n",
    "print(np.mean(Z))"
   ]
  },
  {
   "cell_type": "markdown",
   "metadata": {},
   "source": [
    "### 1. d) Memorylessness, pt. 1\n",
    "In THW3, 3.c), you used the property, known as the \"memoryless\" property, of a geometric variable that \n",
    "$$P(X-t=s|X>t) = P(X=s).$$\n",
    "We will know use the simulation to verify this property. \n",
    "\n",
    "As above, let $X$ be the number of steps needed to see the first chunk of a file. Suppose that you have downloaded the first 10 chunks of a file, and none of them is the first chunk. Let us define a new random variable, $\\tilde{X}$, representing the number of remaining steps before we see the first chunk. Note that $\\tilde{X} = X - 10$. Since we know that $X > 10$, the equation above tells us that \n",
    "\n",
    "$$P(\\tilde{X}=s|X>10) = P(X-10=s|X>10) = P(X=s)$$\n",
    "\n",
    "For each of the samples generated in part a), calculate $X$. Keep all of the samples with $X>10$ and discard the ones with $X\\leq10$. Then, subtract 10 from each value of $X$. These new values represent a sample of $\\tilde{X}$. Estimate the empirical mean of $\\tilde{X}$. Plot the **pmf** of the samples of $\\tilde{X}$. How do they compare to those of $X$?"
   ]
  },
  {
   "cell_type": "code",
   "execution_count": 77,
   "metadata": {},
   "outputs": [
    {
     "name": "stdout",
     "output_type": "stream",
     "text": [
      "Empirical mean of X~ is  10.015592101519376\n"
     ]
    }
   ],
   "source": [
    "X_ = X[X > 10] - 10\n",
    "emp_mean = X_.mean()\n",
    "print('Empirical mean of X~ is ',emp_mean)\n"
   ]
  },
  {
   "cell_type": "code",
   "execution_count": 75,
   "metadata": {},
   "outputs": [
    {
     "data": {
      "text/plain": [
       "[<matplotlib.lines.Line2D at 0x14cb9912278>]"
      ]
     },
     "execution_count": 75,
     "metadata": {},
     "output_type": "execute_result"
    },
    {
     "data": {
      "image/png": "[encoded data removed]",
      "text/plain": [
       "<Figure size 432x288 with 1 Axes>"
      ]
     },
     "metadata": {
      "needs_background": "light"
     },
     "output_type": "display_data"
    }
   ],
   "source": [
    "k_list = np.arange(1, X_.max()+1, 1)\n",
    "pk_list = np.zeros(int(X_.max()))\n",
    "for k in range(len(pk_list)): # all the posisble K's\n",
    "    pk_list[k] = find_p_k(k,X_)\n",
    "    \n",
    "plt.figure()\n",
    "plt.title('PMF of X~')\n",
    "plt.plot(k_list, pk_list, '.')"
   ]
  },
  {
   "cell_type": "markdown",
   "metadata": {},
   "source": [
    "The empirical mean and PMF of X~ match X, hence showing that the memoryless property is true."
   ]
  },
  {
   "cell_type": "markdown",
   "metadata": {},
   "source": [
    "### 1. e) Memorylessness, pt. 2\n",
    "\n",
    "Let us now consider the random variable, $Y$, representing the number of steps needed to see both the first and second chunks. Let us check whether this random variable is memoryless. \n",
    "\n",
    "For each of the samples generated in part a), calculate $Y$. Keep all of the samples with $Y>10$ and discard the ones with $Y\\leq10$. Then, subtract 10 from each value of $Y$. These new values represent a sample of $\\tilde{Y}$. Plot the **pmf** of the samples of $\\tilde{Y}$ and compare with the **pmf** of $Y$. Can you explain why this distribution is not memoryless?"
   ]
  },
  {
   "cell_type": "code",
   "execution_count": 182,
   "metadata": {},
   "outputs": [
    {
     "name": "stdout",
     "output_type": "stream",
     "text": [
      "Empirical mean of Y~ is  10.904239148792433\n"
     ]
    }
   ],
   "source": [
    "# same procedure, now with Y\n",
    "Y_ = Y[Y > 10] - 10\n",
    "y_mean = np.mean(Y_)\n",
    "print('Empirical mean of Y~ is ',y_mean)\n",
    "\n",
    "# not memoryless because it has to \"remember\" that it saw the first value. \n"
   ]
  },
  {
   "cell_type": "code",
   "execution_count": 196,
   "metadata": {},
   "outputs": [
    {
     "data": {
      "text/plain": [
       "[<matplotlib.lines.Line2D at 0x14cbb08c4e0>]"
      ]
     },
     "execution_count": 196,
     "metadata": {},
     "output_type": "execute_result"
    },
    {
     "data": {
      "image/png": "[encoded data removed]",
      "text/plain": [
       "<Figure size 432x288 with 1 Axes>"
      ]
     },
     "metadata": {
      "needs_background": "light"
     },
     "output_type": "display_data"
    }
   ],
   "source": [
    "k_list = np.arange(1, Y.max()+1, 1)\n",
    "pk_list = np.zeros(int(Y.max()))\n",
    "for k in range(len(pk_list)): # all the posisble K's\n",
    "    pk_list[k] = find_p_k(k,Y)\n",
    "    \n",
    "plt.figure()\n",
    "plt.title('PMF of Y')\n",
    "plt.plot(k_list, pk_list, '.')"
   ]
  },
  {
   "cell_type": "code",
   "execution_count": 185,
   "metadata": {},
   "outputs": [
    {
     "data": {
      "text/plain": [
       "[<matplotlib.lines.Line2D at 0x14cbb3e5438>]"
      ]
     },
     "execution_count": 185,
     "metadata": {},
     "output_type": "execute_result"
    },
    {
     "data": {
      "image/png": "[encoded data removed]",
      "text/plain": [
       "<Figure size 432x288 with 1 Axes>"
      ]
     },
     "metadata": {
      "needs_background": "light"
     },
     "output_type": "display_data"
    }
   ],
   "source": [
    "k_list = np.arange(1, Y_.max()+1, 1)\n",
    "pk_list = np.zeros(int(Y_.max()))\n",
    "for k in range(len(pk_list)): # all the posisble K's\n",
    "    pk_list[k] = find_p_k(k,Y_)\n",
    "    \n",
    "plt.figure()\n",
    "plt.title('PMF of Y~')\n",
    "plt.plot(k_list, pk_list, '.')"
   ]
  },
  {
   "cell_type": "markdown",
   "metadata": {},
   "source": [
    "In this case, the expectation and pmf of Y~ does not match Y. Hence, the memoryless property is not true for Y. The intuitive explanation for why Y is not memoryless is because the variable Y has to \"keep track\" or \"remember\" information about X, or seeing the first chunk. Hence, the output any given time is NOT only dependent on the input at that time and that the time elapsed is a factor, meaning that the system requires memory. "
   ]
  },
  {
   "cell_type": "markdown",
   "metadata": {},
   "source": [
    "# 2. Law of Large Numbers\n",
    "\n",
    "Let $X_i$ be a sequence of i.i.d random variables. Given $n$ measurements of $X_i$, we calculate the sample mean of the random variable as \n",
    "\n",
    "$$\n",
    "\\bar{X}_n = \\frac{1}{N}\\sum_1^N X_i\n",
    "$$\n",
    "\n",
    "The law of large numbers deals with the convergence of the sample mean to the expecation of the random variable $X_i$ as $n$ gets large. \n",
    "\n",
    "$$\n",
    "\\bar{X}_n \\rightarrow E[X] \\quad \\text{as} \\quad n \\rightarrow \\infty. \n",
    "$$\n",
    "\n",
    "In this problem, we will consider the weak law of large numbers. The weak law of large numbers states that for any $\\epsilon > 0$. \n",
    "\n",
    "$$\n",
    "\\lim_{n\\rightarrow\\infty} P(|\\bar{X}_n - E[X]| > \\epsilon) = 0\n",
    "$$\n",
    "\n",
    "This is known as convergence in probability. In words, it means that the probability that $\\bar{X}_n$ is any positive distance from $E[X]$ becomes arbitrarily small as $n$ becomes large. In mathematical terms, it means that for any $\\epsilon > 0$ and $\\delta > 0$, there exists an integer $N$ such that if $n \\geq N$, then\n",
    "\n",
    "$$\n",
    "P(|\\bar{X}_n - E[X]| > \\epsilon) < \\delta\n",
    "$$\n",
    "\n",
    "or, equivalently,\n",
    "\n",
    "$$P(|\\bar{X}_n - E[X]| \\leq \\epsilon) \\geq 1-\\delta$$\n",
    "\n",
    "We can write $N = N(\\epsilon,\\delta)$ to emphasize that N is dependent on both $\\epsilon$ and $\\delta$. To see why, consider the following: For a fixed $n$, $\\bar{X}_n$ will naturally have a certain amount of variability because it is a function of a finite random sample. Because of this variability, if we keep $n$ fixed and reduce $\\epsilon$, the probability that $\\bar{X}_n$ will be more than $\\epsilon$ away from $E[X]$ increases. To keep $P(|\\bar{X}_n - E[X]| > \\epsilon)$ below $\\delta$, we thus have to reduce the variability by increasing $n$.  \n",
    "\n",
    "In this problem, we will empirically estimate the relationship between $N, \\epsilon$, and $\\delta$, for a few distributions."
   ]
  },
  {
   "cell_type": "markdown",
   "metadata": {},
   "source": [
    "### 2. a) Uniform Distribution\n",
    "For a fixed value of $\\epsilon$, we wish to find a relationship between $\\delta$ and $N$. The above definitions imply that for every value of $\\epsilon$, there exists a value of $N$. But we can also go in the reverse direction. For every value of $N$, we can find a corresponding $\\delta$ such that $P(|\\bar{X}_n - E[X]| > \\epsilon) < \\delta$ if $n \\geq N$. Under the assumption that $P(|\\bar{X}_n - E[X]| > \\epsilon)$ decreases monotonically as $n$ increases, we can do this by just finding $\\delta$ such that $P(|\\bar{X}_n - E[X]| > \\epsilon) = \\delta$ when $n = N$.\n",
    "\n",
    "So, how do we estimate $P(|\\bar{X}_n - E[X]| > \\epsilon)$ for a fixed value of $n$? As we have been doing, we need to sample $\\bar{X}_n$ a large number of times, represented by $M$. We then estimate $P(|\\bar{X}_n - E[X]| > \\epsilon)$ as \n",
    "\n",
    "$$P(|\\bar{X}_n - E[X]| > \\epsilon) \\approx \\frac{\\text{count}(|\\bar{X}_n - E[X]| > \\epsilon)}{M}$$\n",
    "\n",
    "Write a function called `get_deltas` to estimate $\\delta = P(|\\bar{X}_n - E[X]| > \\epsilon)$ for $n \\in \\{1,2,...,\\text{max_n}\\}$. Then use the function to calculate the relationship between $N$ and $\\delta$ for $\\epsilon \\in \\{0.1,0.05,0.01\\}$. Create a plot which displays the relationship for each value of $\\epsilon$. \n",
    "\n",
    "Use your plot to answer the following questions:\n",
    "- How many samples are needed in order to have at least a 50% probability that our sample mean is within 0.01 of the true mean? Within 0.05 of the true mean?\n",
    "- How many samples do we need in order for the sample mean to fall within 0.05 of the true mean with 80% probability? 90% probability?"
   ]
  },
  {
   "cell_type": "code",
   "execution_count": 92,
   "metadata": {},
   "outputs": [],
   "source": [
    "# Uniform Distribution\n",
    "\n",
    "def empirical_mean(dist,n=1000):\n",
    "    # we are assuming that dist = np.random.uniform()\n",
    "    v = dist(size = n) # array containing n samples distributed according to dist\n",
    "    mu = np.mean(v)\n",
    "    return mu\n",
    "    \n",
    "\n",
    "def get_deltas(mu,dist,eps=0.1,M=1000,max_n=500):\n",
    "    deltas = []\n",
    "    for n in range(1, max_n):\n",
    "        sample_means = np.array([empirical_mean(dist, n=n) for _ in range(M)])\n",
    "        \n",
    "        # check if the difference is greater than epsilon \n",
    "        delta = np.mean((np.abs(sample_means - mu) > eps).astype(np.float))\n",
    "        deltas.append(delta)\n",
    "    return deltas\n",
    "        \n",
    "mu = 0.5\n",
    "dist = lambda size : np.random.uniform(0, 1, size = size) # lambda, inline function\n",
    "eps = 0.05\n",
    "deltas = get_deltas(mu,dist, eps)\n",
    "deltas2 = get_deltas(mu, dist, eps = 0.01)\n",
    "\n"
   ]
  },
  {
   "cell_type": "code",
   "execution_count": 100,
   "metadata": {},
   "outputs": [
    {
     "data": {
      "image/png": "[encoded data removed]",
      "text/plain": [
       "<Figure size 432x288 with 2 Axes>"
      ]
     },
     "metadata": {
      "needs_background": "light"
     },
     "output_type": "display_data"
    }
   ],
   "source": [
    "fig = plt.figure()\n",
    "\n",
    "max_n = 500\n",
    "n = np.arange(1, max_n)\n",
    "plt.subplot(2,1,1)\n",
    "plt.title('epsilon = 0.05')\n",
    "plt.plot(n, 1 - np.array(deltas))\n",
    "\n",
    "plt.subplot(2,1,2)\n",
    "plt.title('epsilon = 0.01')\n",
    "plt.plot(n, 1 - np.array(deltas2))\n",
    "fig.tight_layout()\n",
    "# explore the curve for other values of epsilon"
   ]
  },
  {
   "cell_type": "markdown",
   "metadata": {},
   "source": [
    "a) The graph shows that we need approximately 400 samples to have at least a 50% probability of our sample mean being within 0.01 of the true mean. To have 50% probability of being within 0.05 of the true mean, we need approximately 15 samples. \n",
    "\n",
    "b) To fall within 0.05 of the true mean with 80% probability, we need around 80-90 samples, estimating from the graph. For 90% probability, we need about 100 samples."
   ]
  },
  {
   "cell_type": "markdown",
   "metadata": {},
   "source": [
    "### 2. b) Bernoulli Distribution\n",
    "\n",
    "Repeat part a) for a Bernoulli distribution with $p = 0.5$ and $p = 0.1$. As a reminder, a Bernoulli distribution gives 1 with probability $p$ and 0 with probability $1-p$. Explain any trends that you observe. "
   ]
  },
  {
   "cell_type": "code",
   "execution_count": 144,
   "metadata": {},
   "outputs": [],
   "source": [
    "# Uniform Distribution\n",
    "\n",
    "def empirical_mean(dist,n=1000):\n",
    "    # we are assuming that dist = np.random.uniform()\n",
    "    v = dist(size = n) # array containing n samples distributed according to dist\n",
    "    mu = np.mean(v)\n",
    "    return mu\n",
    "    \n",
    "\n",
    "def get_deltas(mu,dist,eps=0.1,M=1000,max_n=500):\n",
    "    deltas = []\n",
    "    for n in range(1, max_n):\n",
    "        sample_means = np.array([empirical_mean(dist, n=n) for _ in range(M)])\n",
    "        \n",
    "        # check if the difference is greater than epsilon \n",
    "        delta = np.mean((np.abs(sample_means - mu) > eps).astype(np.float))\n",
    "        deltas.append(delta)\n",
    "    return deltas\n",
    "        \n",
    "mu = 0.5\n",
    "dist = lambda size : np.random.choice([0,1],p=[0.5,0.5], size = size) # lambda, inline function\n",
    "eps = 0.05\n",
    "deltas3 = get_deltas(mu,dist, eps)\n",
    "deltas4 = get_deltas(mu, dist, eps = 0.01)\n",
    "\n"
   ]
  },
  {
   "cell_type": "code",
   "execution_count": 149,
   "metadata": {},
   "outputs": [
    {
     "data": {
      "image/png": "[encoded data removed]",
      "text/plain": [
       "<Figure size 432x288 with 2 Axes>"
      ]
     },
     "metadata": {
      "needs_background": "light"
     },
     "output_type": "display_data"
    }
   ],
   "source": [
    "fig = plt.figure()\n",
    "\n",
    "max_n = 500\n",
    "n = np.arange(1, max_n)\n",
    "plt.subplot(2,1,1)\n",
    "plt.title('p = 0.5, epsilon = 0.05')\n",
    "plt.plot(n, 1 - np.array(deltas3))\n",
    "\n",
    "plt.subplot(2,1,2)\n",
    "plt.title('p = 0.5, epsilon = 0.01')\n",
    "plt.plot(n, 1 - np.array(deltas4))\n",
    "fig.tight_layout()\n",
    "# explore the curve for other values of epsilon"
   ]
  },
  {
   "cell_type": "markdown",
   "metadata": {},
   "source": [
    "a) We need approximately 600-700 samples for 50% probability of being within 0.01. To be within 0.05 with 50% probability, we need about 50 samples.\n",
    "\n",
    "b) To fall within 0.05 with 80% probability we need approximately 220 samples. For 90%, about 320. "
   ]
  },
  {
   "cell_type": "code",
   "execution_count": 194,
   "metadata": {},
   "outputs": [],
   "source": [
    "# Uniform Distribution\n",
    "\n",
    "def empirical_mean(dist,n=1000):\n",
    "    # we are assuming that dist = np.random.uniform()\n",
    "    v = dist(size = n) # array containing n samples distributed according to dist\n",
    "    mu = np.mean(v)\n",
    "    return mu\n",
    "    \n",
    "\n",
    "def get_deltas(mu,dist,eps=0.1,M=1000,max_n=500):\n",
    "    deltas = []\n",
    "    for n in range(1, max_n):\n",
    "        sample_means = np.array([empirical_mean(dist, n=n) for _ in range(M)])\n",
    "        \n",
    "        # check if the difference is greater than epsilon \n",
    "        delta = np.mean((np.abs(sample_means - mu) > eps).astype(np.float))\n",
    "        deltas.append(delta)\n",
    "    return deltas\n",
    "        \n",
    "mu = 0.1\n",
    "dist = lambda size : np.random.choice([0,1],p=[0.9,0.1], size = size) # lambda, inline function\n",
    "eps = 0.05\n",
    "deltas3 = get_deltas(mu,dist, eps)\n",
    "deltas4 = get_deltas(mu, dist, eps = 0.01)"
   ]
  },
  {
   "cell_type": "code",
   "execution_count": 195,
   "metadata": {},
   "outputs": [
    {
     "data": {
      "image/png": "[encoded data removed]",
      "text/plain": [
       "<Figure size 432x288 with 2 Axes>"
      ]
     },
     "metadata": {
      "needs_background": "light"
     },
     "output_type": "display_data"
    }
   ],
   "source": [
    "fig = plt.figure()\n",
    "\n",
    "max_n = 500\n",
    "n = np.arange(1, max_n)\n",
    "plt.subplot(2,1,1)\n",
    "plt.title('p = 0.1, epsilon = 0.05')\n",
    "plt.plot(n, 1 - np.array(deltas3))\n",
    "\n",
    "plt.subplot(2,1,2)\n",
    "plt.title('p = 0.1, epsilon = 0.01')\n",
    "plt.plot(n, 1 - np.array(deltas4))\n",
    "fig.tight_layout()\n"
   ]
  },
  {
   "cell_type": "markdown",
   "metadata": {},
   "source": [
    "a) We need approximately 450 samples for 50% probability of being within 0.01. To be within 0.05 with 50% probability, we need about 20 samples.\n",
    "\n",
    "b) To fall within 0.05 with 80% probability we need approximately 85 samples. For 90%, about 110 samples. \n",
    "\n",
    "It seems that with a lower p, (p=0.1) we generally require fewer samples to get to the same level of closeness to epsilon. "
   ]
  },
  {
   "cell_type": "markdown",
   "metadata": {},
   "source": [
    "# 3. Credible Intervals\n",
    "\n",
    "Suppose that, in the previous investment problem, the fund returns $(1+a)x$ with probability $p$ and $(1-b)x$ with probability $1-p$, where $p$ is unknown. We wish to estimate $p$ from the actual performance of the investment over time. But we also want to provide some statement about the certainty of our answer. One way of doing this is to use credible intervals. \n",
    "\n",
    "### 3. a) Load data\n",
    "Load the variable `S` from the provided .npy file using the following code."
   ]
  },
  {
   "cell_type": "code",
   "execution_count": 46,
   "metadata": {},
   "outputs": [
    {
     "data": {
      "text/plain": [
       "[<matplotlib.lines.Line2D at 0x1ea742dbfd0>]"
      ]
     },
     "execution_count": 46,
     "metadata": {},
     "output_type": "execute_result"
    },
    {
     "data": {
      "image/png": "[encoded data removed]",
      "text/plain": [
       "<Figure size 432x288 with 1 Axes>"
      ]
     },
     "metadata": {
      "needs_background": "light"
     },
     "output_type": "display_data"
    }
   ],
   "source": [
    "S = np.load('investment.npy')\n",
    "plt.plot(S)"
   ]
  },
  {
   "cell_type": "markdown",
   "metadata": {},
   "source": [
    "### 3. b) Find $P(S|p)$\n",
    "Let the sequence of returns from the investment account be denoted $S$. $S$ is of the form \n",
    "\n",
    "$$\n",
    "S = s_1s_2...s_n\n",
    "$$\n",
    "\n",
    "where $s_i$ indicates the amount of money returned by the investment after the $i$'th period. Write a function which evaluates $P(S|p)$. That is, given the probability of returning $(1+a)x$ vs. $(1-b)x$, the function should return the probability that the particular sequence $S$ is returned by the investment (for large $n$, this will always be a very small number if $p\\neq1$). "
   ]
  },
  {
   "cell_type": "code",
   "execution_count": 47,
   "metadata": {},
   "outputs": [],
   "source": [
    "def p_S_given_p(S,p):\n",
    "    \n",
    "    pass"
   ]
  },
  {
   "cell_type": "markdown",
   "metadata": {},
   "source": [
    "### 3. c) Find $P(p|S)$\n",
    "\n",
    "It is known a priori that $p \\in [0,1]$. Divide up the range $[0,1]$ into a finite number of bins given by `n_p`. Let $H_i$ denote the $i$'th bin. \n",
    "\n",
    "Using Bayes' rule and your function from part b), write a function which gives the probability that $p \\in H_i$ for each $i \\in \\{1,...,n_p\\}$. To make this tractable, you should approximate that $p$ can only take a single value per bin. \n"
   ]
  },
  {
   "cell_type": "code",
   "execution_count": 50,
   "metadata": {},
   "outputs": [],
   "source": [
    "def p_p_given_S(S,n_p=100):\n",
    "\n",
    "    pass"
   ]
  },
  {
   "cell_type": "markdown",
   "metadata": {},
   "source": [
    "### 3. d) Credible intervals\n",
    "\n",
    "Using your function from part c), calculate the distribution of $P(p|S)$. Restrict the portion of S that you consider to the first 10 samples. Repeat with the first 100, 500, and 1000 samples. Plot the distributions, appropriately labeled, on a single graph. \n",
    "\n",
    "Next, we will use each of the distributions to calculate credible intervals for $p$. A credible interval is an interval on $[0,1]$ which will contain $p$ with 90% probability. This interval is not necessarily unique. We ask for the interval which is 'centered' in the sense that there is a 5% probability that $p$ lies on either side of the interval. To find this interval, calculate the cumulative distribution function (CDF) associated with each of the distributions that you found. Then, find the value of $p$ which is closest to the 5% and 95% points on the CDF. \n",
    "\n",
    "(Note that a *credible interval* is not the same as the similarly named *confidence interval*. A confidence interval has a more nuanced interpretation based on frequentist statistics: given a fixed $p$, a 90% confidense interval constructed from a sample will contain $p$ 90% of the time. This is different from saying that the interval will contain $p$ with 90% probability.)"
   ]
  },
  {
   "cell_type": "code",
   "execution_count": null,
   "metadata": {},
   "outputs": [],
   "source": []
  }
 ],
 "metadata": {
  "kernelspec": {
   "display_name": "Python 3",
   "language": "python",
   "name": "python3"
  },
  "language_info": {
   "codemirror_mode": {
    "name": "ipython",
    "version": 3
   },
   "file_extension": ".py",
   "mimetype": "text/x-python",
   "name": "python",
   "nbconvert_exporter": "python",
   "pygments_lexer": "ipython3",
   "version": "3.7.1"
  },
  "varInspector": {
   "cols": {
    "lenName": 16,
    "lenType": 16,
    "lenVar": 40
   },
   "kernels_config": {
    "python": {
     "delete_cmd_postfix": "",
     "delete_cmd_prefix": "del ",
     "library": "var_list.py",
     "varRefreshCmd": "print(var_dic_list())"
    },
    "r": {
     "delete_cmd_postfix": ") ",
     "delete_cmd_prefix": "rm(",
     "library": "var_list.r",
     "varRefreshCmd": "cat(var_dic_list()) "
    }
   },
   "types_to_exclude": [
    "module",
    "function",
    "builtin_function_or_method",
    "instance",
    "_Feature"
   ],
   "window_display": false
  }
 },
 "nbformat": 4,
 "nbformat_minor": 4
}
